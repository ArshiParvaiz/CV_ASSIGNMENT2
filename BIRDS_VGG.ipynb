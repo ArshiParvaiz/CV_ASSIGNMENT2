{
  "nbformat": 4,
  "nbformat_minor": 0,
  "metadata": {
    "colab": {
      "name": "BIRDS_VGG.ipynb",
      "provenance": []
    },
    "kernelspec": {
      "name": "python3",
      "display_name": "Python 3"
    },
    "language_info": {
      "name": "python"
    },
    "accelerator": "GPU"
  },
  "cells": [
    {
      "cell_type": "code",
      "metadata": {
        "colab": {
          "base_uri": "https://localhost:8080/"
        },
        "id": "ns7ocGnq-Xl4",
        "outputId": "5086a3c6-cabe-43bf-91bf-18b5a8adb005"
      },
      "source": [
        "ls\n"
      ],
      "execution_count": 9,
      "outputs": [
        {
          "output_type": "stream",
          "name": "stdout",
          "text": [
            "class_dict.csv  \u001b[0m\u001b[01;34mtest\u001b[0m/  \u001b[01;34mtrain\u001b[0m/  \u001b[01;34mvalid\u001b[0m/\n"
          ]
        }
      ]
    },
    {
      "cell_type": "code",
      "metadata": {
        "colab": {
          "base_uri": "https://localhost:8080/"
        },
        "id": "_sIJawhO-ZKW",
        "outputId": "cc9b38a8-794b-4ea7-fd0d-381add082e41"
      },
      "source": [
        "cd drive/MyDrive/315_Birds_Species/"
      ],
      "execution_count": 8,
      "outputs": [
        {
          "output_type": "stream",
          "name": "stdout",
          "text": [
            "/content/drive/MyDrive/315_Birds_Species\n"
          ]
        }
      ]
    },
    {
      "cell_type": "code",
      "metadata": {
        "colab": {
          "base_uri": "https://localhost:8080/"
        },
        "id": "_1KzLeJM8v-V",
        "outputId": "d0e7b3ca-585c-444c-d39d-575864647713"
      },
      "source": [
        "from google.colab import drive\n",
        "drive.mount('/content/drive')"
      ],
      "execution_count": 1,
      "outputs": [
        {
          "output_type": "stream",
          "name": "stdout",
          "text": [
            "Mounted at /content/drive\n"
          ]
        }
      ]
    },
    {
      "cell_type": "code",
      "metadata": {
        "id": "ZgaYw12N9F0l"
      },
      "source": [
        "from tensorflow.keras.applications.vgg16 import VGG16\n",
        "from tensorflow.keras.utils import plot_model\n",
        "from tensorflow.keras.preprocessing.image import ImageDataGenerator\n",
        "import os\n",
        "import tensorflow as tf\n",
        "import os\n",
        "import numpy as np\n",
        "import shutil\n",
        "import random\n",
        "from keras import models, layers"
      ],
      "execution_count": 1,
      "outputs": []
    },
    {
      "cell_type": "code",
      "metadata": {
        "id": "NA524EV49Jdd"
      },
      "source": [
        "from tensorflow.keras.preprocessing.image import load_img\n",
        "from tensorflow.keras.preprocessing.image import img_to_array\n",
        "from tensorflow.keras.applications.vgg16 import decode_predictions\n",
        "from tensorflow.keras.applications.vgg16 import preprocess_input\n",
        "import keras\n",
        "\n",
        "decode_predictions = keras.applications.vgg16.decode_predictions\n",
        "import numpy as np\n",
        "from numpy import expand_dims\n",
        "from skimage.transform import resize\n",
        "import matplotlib.pyplot as plt"
      ],
      "execution_count": 2,
      "outputs": []
    },
    {
      "cell_type": "code",
      "metadata": {
        "id": "g5l8Wder9N8M"
      },
      "source": [
        "class VGG:\n",
        "    def __init__(self, input_shape, output_classes):\n",
        "        self.model    = self.getModel(input_shape, output_classes)\n",
        "    def getModel(self,input_shape,output_classes):\n",
        "      vgg16 = VGG16(include_top=False, classes=output_classes, weights='imagenet', input_shape=input_shape)\n",
        "      self.vgg  = vgg16\n",
        "      for layer in vgg16.layers:\n",
        "        layer.trainable = False\n",
        "      print(vgg16.summary())\n",
        "      self.vgg = vgg16\n",
        "      model = models.Sequential()\n",
        "      model.add(vgg16)\n",
        "      model.add(layers.Flatten())\n",
        "      model.add(layers.Dense(512, activation=\"relu\"))\n",
        "      model.add(layers.Dense(128, activation=\"relu\"))\n",
        "      model.add(layers.Dense(output_classes, activation=\"softmax\"))\n",
        "      print(\"-------------------------------\")\n",
        "      print(\"-------------------------------\")\n",
        "      print(\"Model Summary\")\n",
        "      print(\"-------------------------------\")\n",
        "      print(\"-------------------------------\")\n",
        "      print(model.summary())\n",
        "      return model\n",
        "\n",
        "    def getTainAugmentation(self,train_data_dir,target_size=(224, 224),batch_size=32):\n",
        "        train_generator = ImageDataGenerator(\n",
        "                                          rescale=1./255,\n",
        "                                          rotation_range=50, \n",
        "                                          width_shift_range=0.2, \n",
        "                                          height_shift_range=0.2,\n",
        "                                          horizontal_flip=True, \n",
        "                                          fill_mode = 'nearest'\n",
        "                                          ) \n",
        "        traingen = train_generator.flow_from_directory(\n",
        "                                                    train_data_dir,\n",
        "                                                    target_size=target_size,\n",
        "                                                    class_mode='categorical',\n",
        "                                                    batch_size=batch_size, \n",
        "                                                    shuffle=True,\n",
        "                                                    seed=42)\n",
        "        return traingen\n",
        "  \n",
        "    def getTestAugmentation(self,test_data_dir,target_size=(224, 224),batch_size=32):\n",
        "      test_datagen = ImageDataGenerator(rescale=1./255)\n",
        "      testngen = test_datagen.flow_from_directory(\n",
        "                                                  test_data_dir,\n",
        "                                                  target_size= target_size,\n",
        "                                                  class_mode= 'categorical',\n",
        "                                                  batch_size= batch_size, \n",
        "                                                  shuffle=True,\n",
        "                                                  seed=42)\n",
        "      return testngen\n",
        "\n",
        "    def getValidationAugmentation(self,validation_data_dir,target_size=(224, 224),batch_size=32):\n",
        "      validation_datagen = ImageDataGenerator(rescale=1./255)\n",
        "      validationgen = validation_datagen.flow_from_directory(\n",
        "                                                  validation_data_dir,\n",
        "                                                  target_size=target_size,\n",
        "                                                  class_mode='categorical',\n",
        "                                                  batch_size=batch_size, \n",
        "                                                  shuffle=True,\n",
        "                                                  seed=42)\n",
        "      return validationgen\n",
        "\n",
        "\n",
        "    def train(self,train_data_dir,validation_data_dir,target_size,batch_size,epochs):\n",
        "      traingen = self.getTainAugmentation(train_data_dir,target_size,batch_size)\n",
        "      validationgen = self.getValidationAugmentation(validation_data_dir,target_size,batch_size)\n",
        "      self.model.compile(\n",
        "        loss='categorical_crossentropy',\n",
        "        optimizer='adam',\n",
        "        metrics=['accuracy']\n",
        "       )\n",
        "      history = self.model.fit(\n",
        "        traingen,\n",
        "        steps_per_epoch=  len(traingen),\n",
        "        epochs=epochs,\n",
        "        validation_data=validationgen,\n",
        "        validation_steps= len(validationgen))\n",
        "      return history \n",
        "    def plot_accuracy(self,history):\n",
        "        fig1 = plt.gcf()\n",
        "        plt.plot(history.history['accuracy'])\n",
        "        plt.plot(history.history['val_accuracy'])\n",
        "        plt.axis(ymin=0.4,ymax=1)\n",
        "        plt.grid()\n",
        "        plt.title('Model Accuracy')\n",
        "        plt.ylabel('Accuracy')\n",
        "        plt.xlabel('Epochs')\n",
        "        plt.legend(['train', 'validation'])\n",
        "        plt.show(self,history) \n",
        "    def  plot_loss(self,history):\n",
        "        plt.plot(history.history['loss'])\n",
        "        plt.plot(history.history['val_loss'])\n",
        "        plt.grid()\n",
        "        plt.title('Model Loss')\n",
        "        plt.ylabel('Loss')\n",
        "        plt.xlabel('Epochs')\n",
        "        plt.legend(['train', 'validation'])\n",
        "        plt.show()\n",
        "    def test_model(self, test):  \n",
        "       test_accu = self.model.evaluate(test)\n",
        "       print('Testing accuracy:',test_accu[1]*100, '%')\n",
        "    def predict(self, img_array):\n",
        "      return self.model.predict(img_array)\n",
        "\n",
        "\n",
        "    def get_img_array(self,img_path, size):\n",
        "        img = keras.preprocessing.image.load_img(img_path, target_size=size)\n",
        "        array = keras.preprocessing.image.img_to_array(img)\n",
        "        array = np.expand_dims(array, axis=0)\n",
        "        return array\n",
        "    def make_gradcam_heatmap(self,img_array, model, last_conv_layer_name, pred_index=None):\n",
        "        # First, we create a model that maps the input image to the activations\n",
        "        # of the last conv layer as well as the output predictions\n",
        "        \n",
        "        grad_model = tf.keras.models.Model(\n",
        "            [model.inputs], [self.vgg.get_layer(last_conv_layer_name).output, model.output]\n",
        "        )\n",
        "        # Then, we compute the gradient of the top predicted class for our input image\n",
        "        # with respect to the activations of the last conv layer\n",
        "        with tf.GradientTape() as tape:\n",
        "            last_conv_layer_output, preds = grad_model(img_array)\n",
        "            if pred_index is None:\n",
        "                pred_index = tf.argmax(preds[0])\n",
        "            class_channel = preds[:, pred_index]\n",
        "\n",
        "        # This is the gradient of the output neuron (top predicted or chosen)\n",
        "        # with regard to the output feature map of the last conv layer\n",
        "        grads = tape.gradient(class_channel, last_conv_layer_output)\n",
        "\n",
        "        # This is a vector where each entry is the mean intensity of the gradient\n",
        "        # over a specific feature map channel\n",
        "        pooled_grads = tf.reduce_mean(grads, axis=(0, 1, 2))\n",
        "\n",
        "        # We multiply each channel in the feature map array\n",
        "        # by \"how important this channel is\" with regard to the top predicted class\n",
        "        # then sum all the channels to obtain the heatmap class activation\n",
        "        last_conv_layer_output = last_conv_layer_output[0]\n",
        "        heatmap = last_conv_layer_output @ pooled_grads[..., tf.newaxis]\n",
        "        heatmap = tf.squeeze(heatmap)\n",
        "\n",
        "        # For visualization purpose, we will also normalize the heatmap between 0 & 1\n",
        "        heatmap = tf.maximum(heatmap, 0) / tf.math.reduce_max(heatmap)\n",
        "        return heatmap.numpy()"
      ],
      "execution_count": 18,
      "outputs": []
    },
    {
      "cell_type": "code",
      "metadata": {
        "colab": {
          "base_uri": "https://localhost:8080/"
        },
        "id": "E7v_USmK9SSc",
        "outputId": "0658deef-43c1-4a2b-ed80-2374a8ba52a3"
      },
      "source": [
        "vgg = VGG((224, 224,3),315)"
      ],
      "execution_count": 19,
      "outputs": [
        {
          "output_type": "stream",
          "name": "stdout",
          "text": [
            "Model: \"vgg16\"\n",
            "_________________________________________________________________\n",
            " Layer (type)                Output Shape              Param #   \n",
            "=================================================================\n",
            " input_4 (InputLayer)        [(None, 224, 224, 3)]     0         \n",
            "                                                                 \n",
            " block1_conv1 (Conv2D)       (None, 224, 224, 64)      1792      \n",
            "                                                                 \n",
            " block1_conv2 (Conv2D)       (None, 224, 224, 64)      36928     \n",
            "                                                                 \n",
            " block1_pool (MaxPooling2D)  (None, 112, 112, 64)      0         \n",
            "                                                                 \n",
            " block2_conv1 (Conv2D)       (None, 112, 112, 128)     73856     \n",
            "                                                                 \n",
            " block2_conv2 (Conv2D)       (None, 112, 112, 128)     147584    \n",
            "                                                                 \n",
            " block2_pool (MaxPooling2D)  (None, 56, 56, 128)       0         \n",
            "                                                                 \n",
            " block3_conv1 (Conv2D)       (None, 56, 56, 256)       295168    \n",
            "                                                                 \n",
            " block3_conv2 (Conv2D)       (None, 56, 56, 256)       590080    \n",
            "                                                                 \n",
            " block3_conv3 (Conv2D)       (None, 56, 56, 256)       590080    \n",
            "                                                                 \n",
            " block3_pool (MaxPooling2D)  (None, 28, 28, 256)       0         \n",
            "                                                                 \n",
            " block4_conv1 (Conv2D)       (None, 28, 28, 512)       1180160   \n",
            "                                                                 \n",
            " block4_conv2 (Conv2D)       (None, 28, 28, 512)       2359808   \n",
            "                                                                 \n",
            " block4_conv3 (Conv2D)       (None, 28, 28, 512)       2359808   \n",
            "                                                                 \n",
            " block4_pool (MaxPooling2D)  (None, 14, 14, 512)       0         \n",
            "                                                                 \n",
            " block5_conv1 (Conv2D)       (None, 14, 14, 512)       2359808   \n",
            "                                                                 \n",
            " block5_conv2 (Conv2D)       (None, 14, 14, 512)       2359808   \n",
            "                                                                 \n",
            " block5_conv3 (Conv2D)       (None, 14, 14, 512)       2359808   \n",
            "                                                                 \n",
            " block5_pool (MaxPooling2D)  (None, 7, 7, 512)         0         \n",
            "                                                                 \n",
            "=================================================================\n",
            "Total params: 14,714,688\n",
            "Trainable params: 0\n",
            "Non-trainable params: 14,714,688\n",
            "_________________________________________________________________\n",
            "None\n",
            "-------------------------------\n",
            "-------------------------------\n",
            "Model Summary\n",
            "-------------------------------\n",
            "-------------------------------\n",
            "Model: \"sequential_3\"\n",
            "_________________________________________________________________\n",
            " Layer (type)                Output Shape              Param #   \n",
            "=================================================================\n",
            " vgg16 (Functional)          (None, 7, 7, 512)         14714688  \n",
            "                                                                 \n",
            " flatten_3 (Flatten)         (None, 25088)             0         \n",
            "                                                                 \n",
            " dense_9 (Dense)             (None, 512)               12845568  \n",
            "                                                                 \n",
            " dense_10 (Dense)            (None, 128)               65664     \n",
            "                                                                 \n",
            " dense_11 (Dense)            (None, 315)               40635     \n",
            "                                                                 \n",
            "=================================================================\n",
            "Total params: 27,666,555\n",
            "Trainable params: 12,951,867\n",
            "Non-trainable params: 14,714,688\n",
            "_________________________________________________________________\n",
            "None\n"
          ]
        }
      ]
    },
    {
      "cell_type": "code",
      "metadata": {
        "colab": {
          "base_uri": "https://localhost:8080/",
          "height": 564
        },
        "id": "qAWM8bwV9f_U",
        "outputId": "799ba680-bb66-412e-8703-d0fa255190ce"
      },
      "source": [
        "#Architecture\n",
        "import pydot\n",
        "plot_model(vgg.model)"
      ],
      "execution_count": 5,
      "outputs": [
        {
          "output_type": "execute_result",
          "data": {
            "image/png": "[encoded data removed]",
            "text/plain": [
              "<IPython.core.display.Image object>"
            ]
          },
          "metadata": {},
          "execution_count": 5
        }
      ]
    },
    {
      "cell_type": "code",
      "metadata": {
        "colab": {
          "base_uri": "https://localhost:8080/"
        },
        "id": "_AxDWvq19lvN",
        "outputId": "58853528-fe55-406d-9bfb-1402c9e5caa1"
      },
      "source": [
        "train_data_dir = \"./train\"\n",
        "validation_data_dir = \"./valid\"\n",
        "target_size = (224,224)\n",
        "batch_size = 32\n",
        "epochs = 10\n",
        "history = vgg.train(train_data_dir,validation_data_dir,target_size,batch_size,epochs)"
      ],
      "execution_count": null,
      "outputs": [
        {
          "output_type": "stream",
          "name": "stdout",
          "text": [
            "Found 36514 images belonging to 315 classes.\n",
            "Found 0 images belonging to 315 classes.\n",
            "Epoch 1/10\n",
            " 208/1142 [====>.........................] - ETA: 4:28:36 - loss: 5.7623 - accuracy: 0.0038"
          ]
        }
      ]
    }
  ]
}