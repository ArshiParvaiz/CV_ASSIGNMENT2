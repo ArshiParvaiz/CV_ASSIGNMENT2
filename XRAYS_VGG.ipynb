{
 "cells": [
  {
   "cell_type": "code",
   "execution_count": 15,
   "metadata": {
    "colab": {
     "base_uri": "https://localhost:8080/"
    },
    "id": "yIT4OYpc1JcW",
    "outputId": "d209ade1-ed14-4fa7-e3c2-51462981d6af"
   },
   "outputs": [
    {
     "name": "stdout",
     "output_type": "stream",
     "text": [
      "/content/drive/MyDrive/chest_xray\n"
     ]
    }
   ],
   "source": [
    "cd drive/MyDrive/chest_xray"
   ]
  },
  {
   "cell_type": "code",
   "execution_count": 11,
   "metadata": {
    "colab": {
     "base_uri": "https://localhost:8080/"
    },
    "id": "SRBevbGs1HBf",
    "outputId": "89773194-3c72-40a8-93bc-6e069315689b"
   },
   "outputs": [
    {
     "name": "stdout",
     "output_type": "stream",
     "text": [
      "\u001b[0m\u001b[01;34mdrive\u001b[0m/  \u001b[01;34msample_data\u001b[0m/\n"
     ]
    }
   ],
   "source": [
    "ls"
   ]
  },
  {
   "cell_type": "code",
   "execution_count": 22,
   "metadata": {
    "colab": {
     "base_uri": "https://localhost:8080/"
    },
    "id": "cGVY6U5XhaSq",
    "outputId": "101d232e-e748-4f3d-f4b0-12dd74af4a97"
   },
   "outputs": [
    {
     "name": "stdout",
     "output_type": "stream",
     "text": [
      "*****************************\n",
      "Total images:  1349\n",
      "Training:  1214\n",
      "Validation:  135\n",
      "*****************************\n",
      "Copying Done!\n",
      "*****************************\n",
      "Total images:  3883\n",
      "Training:  3494\n",
      "Validation:  389\n",
      "*****************************\n",
      "Copying Done!\n"
     ]
    }
   ],
   "source": [
    "#for Deviding into test and train set\n",
    "root_dir = \"./\"\n",
    "classes_dir = ['NORMAL', 'PNEUMONIA']\n",
    "\n",
    "val_ratio = 0.10\n",
    "\n",
    "for cls in classes_dir:\n",
    "    os.makedirs(root_dir +'validation/' + cls)\n",
    "    os.makedirs(root_dir +'train/' + cls)\n",
    "\n",
    "    src = root_dir + 'train-val/'+ cls\n",
    "    allFileNames = os.listdir(src)\n",
    "    np.random.shuffle(allFileNames)\n",
    "    train_FileNames, val_FileNames = np.split(np.array(allFileNames),[int(len(allFileNames)* (1 - val_ratio))])\n",
    "    train_FileNames = [src+'/'+ name for name in train_FileNames.tolist()]\n",
    "    val_FileNames = [src+'/' + name for name in val_FileNames.tolist()]\n",
    "    print(\"*****************************\")\n",
    "    print('Total images: ', len(allFileNames))\n",
    "    print('Training: ', len(train_FileNames))\n",
    "    print('Validation: ', len(val_FileNames))\n",
    "    print(\"*****************************\")\n",
    "    for name in train_FileNames:\n",
    "        shutil.copy(name, root_dir +'train/' + cls)\n",
    "    for name in val_FileNames:\n",
    "        shutil.copy(name, root_dir +'validation/' + cls)\n",
    "    print(\"Copying Done!\")"
   ]
  },
  {
   "cell_type": "code",
   "execution_count": 18,
   "metadata": {
    "id": "1eg6Dk3Lh3fc"
   },
   "outputs": [],
   "source": [
    "from tensorflow.keras.applications.vgg16 import VGG16\n",
    "from tensorflow.keras.utils import plot_model\n",
    "from tensorflow.keras.preprocessing.image import ImageDataGenerator\n",
    "import os\n",
    "import tensorflow as tf\n",
    "import os\n",
    "import numpy as np\n",
    "import shutil\n",
    "import random\n",
    "from keras import models, layers"
   ]
  },
  {
   "cell_type": "code",
   "execution_count": 21,
   "metadata": {
    "id": "6O6bWyu7Z3-O"
   },
   "outputs": [],
   "source": [
    "\n",
    "from tensorflow.keras.preprocessing.image import load_img\n",
    "from tensorflow.keras.preprocessing.image import img_to_array\n",
    "from tensorflow.keras.applications.vgg16 import decode_predictions\n",
    "from tensorflow.keras.applications.vgg16 import preprocess_input\n",
    "import keras\n",
    "\n",
    "decode_predictions = keras.applications.vgg16.decode_predictions\n",
    "import numpy as np\n",
    "from numpy import expand_dims\n",
    "from skimage.transform import resize\n",
    "import matplotlib.pyplot as plt"
   ]
  },
  {
   "cell_type": "code",
   "execution_count": 43,
   "metadata": {
    "id": "csX9cmkVjziY"
   },
   "outputs": [],
   "source": [
    "class VGG:\n",
    "    def __init__(self, input_shape, output_classes):\n",
    "        self.model    = self.getModel(input_shape, output_classes)\n",
    "        \n",
    "    def getModel(self,input_shape,output_classes):\n",
    "      vgg16 = VGG16(include_top=False, classes=output_classes, weights='imagenet', input_shape=input_shape)\n",
    "      self.vgg  = vgg16\n",
    "      for layer in vgg16.layers:\n",
    "        layer.trainable = False\n",
    "      print(vgg16.summary())\n",
    "      self.vgg = vgg16\n",
    "      model = models.Sequential()\n",
    "      model.add(vgg16)\n",
    "      model.add(layers.Flatten())\n",
    "      model.add(layers.Dense(512, activation=\"relu\"))\n",
    "      model.add(layers.Dense(128, activation=\"relu\"))\n",
    "      model.add(layers.Dense(output_classes, activation=\"softmax\"))\n",
    "      print(\"-------------------------------\")\n",
    "      print(\"-------------------------------\")\n",
    "      print(\"Model Summary\")\n",
    "      print(\"-------------------------------\")\n",
    "      print(\"-------------------------------\")\n",
    "      print(model.summary())\n",
    "      return model\n",
    "\n",
    "    def getTainAugmentation(self,train_data_dir,target_size=(224, 224),batch_size=32):\n",
    "        train_generator = ImageDataGenerator(\n",
    "                                          rescale=1./255,\n",
    "                                          rotation_range=50, \n",
    "                                          width_shift_range=0.2, \n",
    "                                          height_shift_range=0.2,\n",
    "                                          horizontal_flip=True, \n",
    "                                          fill_mode = 'nearest'\n",
    "                                          ) \n",
    "        traingen = train_generator.flow_from_directory(\n",
    "                                                    train_data_dir,\n",
    "                                                    target_size=target_size,\n",
    "                                                    class_mode='categorical',\n",
    "                                                    batch_size=batch_size, \n",
    "                                                    shuffle=True,\n",
    "                                                    seed=42)\n",
    "        return traingen\n",
    "  \n",
    "    def getTestAugmentation(self,test_data_dir,target_size=(224, 224),batch_size=32):\n",
    "      test_datagen = ImageDataGenerator(rescale=1./255)\n",
    "      testngen = test_datagen.flow_from_directory(\n",
    "                                                  test_data_dir,\n",
    "                                                  target_size= target_size,\n",
    "                                                  class_mode= 'categorical',\n",
    "                                                  batch_size= batch_size, \n",
    "                                                  shuffle=True,\n",
    "                                                  seed=42)\n",
    "      return testngen\n",
    "\n",
    "    def getValidationAugmentation(self,validation_data_dir,target_size=(224, 224),batch_size=32):\n",
    "      validation_datagen = ImageDataGenerator(rescale=1./255)\n",
    "      validationgen = validation_datagen.flow_from_directory(\n",
    "                                                  validation_data_dir,\n",
    "                                                  target_size=target_size,\n",
    "                                                  class_mode='categorical',\n",
    "                                                  batch_size=batch_size, \n",
    "                                                  shuffle=True,\n",
    "                                                  seed=42)\n",
    "      return validationgen\n",
    "\n",
    "\n",
    "    def train(self,train_data_dir,validation_data_dir,target_size,batch_size,epochs):\n",
    "      traingen = self.getTainAugmentation(train_data_dir,target_size,batch_size)\n",
    "      validationgen = self.getValidationAugmentation(validation_data_dir,target_size,batch_size)\n",
    "      self.model.compile(\n",
    "        loss='categorical_crossentropy',\n",
    "        optimizer='adam',\n",
    "        metrics=['accuracy']\n",
    "       )\n",
    "      history = self.model.fit(\n",
    "        traingen,\n",
    "        steps_per_epoch=  len(traingen),\n",
    "        epochs=epochs,\n",
    "        validation_data=validationgen,\n",
    "        validation_steps= len(validationgen))\n",
    "      return history \n",
    "    def plot_accuracy(self,history):\n",
    "        fig1 = plt.gcf()\n",
    "        plt.plot(history.history['accuracy'])\n",
    "        plt.plot(history.history['val_accuracy'])\n",
    "        plt.axis(ymin=0.4,ymax=1)\n",
    "        plt.grid()\n",
    "        plt.title('Model Accuracy')\n",
    "        plt.ylabel('Accuracy')\n",
    "        plt.xlabel('Epochs')\n",
    "        plt.legend(['train', 'validation'])\n",
    "        plt.show(self,history) \n",
    "    def  plot_loss(self,history):\n",
    "        plt.plot(history.history['loss'])\n",
    "        plt.plot(history.history['val_loss'])\n",
    "        plt.grid()\n",
    "        plt.title('Model Loss')\n",
    "        plt.ylabel('Loss')\n",
    "        plt.xlabel('Epochs')\n",
    "        plt.legend(['train', 'validation'])\n",
    "        plt.show()\n",
    "    def test_model(self, test):  \n",
    "       test_accu = self.model.evaluate(test)\n",
    "       print('Testing accuracy:',test_accu[1]*100, '%')\n",
    "    def predict(self, img_array):\n",
    "      return self.model.predict(img_array)\n",
    "\n",
    "\n",
    "    def get_img_array(self,img_path, size):\n",
    "        img = keras.preprocessing.image.load_img(img_path, target_size=size)\n",
    "        array = keras.preprocessing.image.img_to_array(img)\n",
    "        array = np.expand_dims(array, axis=0)\n",
    "        return array\n",
    "    def make_gradcam_heatmap(self,img_array, model, last_conv_layer_name, pred_index=None):\n",
    "        # First, we create a model that maps the input image to the activations\n",
    "        # of the last conv layer as well as the output predictions\n",
    "        \n",
    "        grad_model = tf.keras.models.Model(\n",
    "            [model.inputs], [self.vgg.get_layer(last_conv_layer_name).output, model.output]\n",
    "        )\n",
    "        # Then, we compute the gradient of the top predicted class for our input image\n",
    "        # with respect to the activations of the last conv layer\n",
    "        with tf.GradientTape() as tape:\n",
    "            last_conv_layer_output, preds = grad_model(img_array)\n",
    "            if pred_index is None:\n",
    "                pred_index = tf.argmax(preds[0])\n",
    "            class_channel = preds[:, pred_index]\n",
    "\n",
    "        # This is the gradient of the output neuron (top predicted or chosen)\n",
    "        # with regard to the output feature map of the last conv layer\n",
    "        grads = tape.gradient(class_channel, last_conv_layer_output)\n",
    "\n",
    "        # This is a vector where each entry is the mean intensity of the gradient\n",
    "        # over a specific feature map channel\n",
    "        pooled_grads = tf.reduce_mean(grads, axis=(0, 1, 2))\n",
    "\n",
    "        # We multiply each channel in the feature map array\n",
    "        # by \"how important this channel is\" with regard to the top predicted class\n",
    "        # then sum all the channels to obtain the heatmap class activation\n",
    "        last_conv_layer_output = last_conv_layer_output[0]\n",
    "        heatmap = last_conv_layer_output @ pooled_grads[..., tf.newaxis]\n",
    "        heatmap = tf.squeeze(heatmap)\n",
    "\n",
    "        # For visualization purpose, we will also normalize the heatmap between 0 & 1\n",
    "        heatmap = tf.maximum(heatmap, 0) / tf.math.reduce_max(heatmap)\n",
    "        return heatmap.numpy()"
   ]
  },
  {
   "cell_type": "code",
   "execution_count": 44,
   "metadata": {
    "colab": {
     "base_uri": "https://localhost:8080/"
    },
    "id": "3Pr3y9vazhKc",
    "outputId": "673ac452-efb5-4553-d2c3-3614832d7133"
   },
   "outputs": [
    {
     "name": "stdout",
     "output_type": "stream",
     "text": [
      "Model: \"vgg16\"\n",
      "_________________________________________________________________\n",
      " Layer (type)                Output Shape              Param #   \n",
      "=================================================================\n",
      " input_6 (InputLayer)        [(None, 224, 224, 3)]     0         \n",
      "                                                                 \n",
      " block1_conv1 (Conv2D)       (None, 224, 224, 64)      1792      \n",
      "                                                                 \n",
      " block1_conv2 (Conv2D)       (None, 224, 224, 64)      36928     \n",
      "                                                                 \n",
      " block1_pool (MaxPooling2D)  (None, 112, 112, 64)      0         \n",
      "                                                                 \n",
      " block2_conv1 (Conv2D)       (None, 112, 112, 128)     73856     \n",
      "                                                                 \n",
      " block2_conv2 (Conv2D)       (None, 112, 112, 128)     147584    \n",
      "                                                                 \n",
      " block2_pool (MaxPooling2D)  (None, 56, 56, 128)       0         \n",
      "                                                                 \n",
      " block3_conv1 (Conv2D)       (None, 56, 56, 256)       295168    \n",
      "                                                                 \n",
      " block3_conv2 (Conv2D)       (None, 56, 56, 256)       590080    \n",
      "                                                                 \n",
      " block3_conv3 (Conv2D)       (None, 56, 56, 256)       590080    \n",
      "                                                                 \n",
      " block3_pool (MaxPooling2D)  (None, 28, 28, 256)       0         \n",
      "                                                                 \n",
      " block4_conv1 (Conv2D)       (None, 28, 28, 512)       1180160   \n",
      "                                                                 \n",
      " block4_conv2 (Conv2D)       (None, 28, 28, 512)       2359808   \n",
      "                                                                 \n",
      " block4_conv3 (Conv2D)       (None, 28, 28, 512)       2359808   \n",
      "                                                                 \n",
      " block4_pool (MaxPooling2D)  (None, 14, 14, 512)       0         \n",
      "                                                                 \n",
      " block5_conv1 (Conv2D)       (None, 14, 14, 512)       2359808   \n",
      "                                                                 \n",
      " block5_conv2 (Conv2D)       (None, 14, 14, 512)       2359808   \n",
      "                                                                 \n",
      " block5_conv3 (Conv2D)       (None, 14, 14, 512)       2359808   \n",
      "                                                                 \n",
      " block5_pool (MaxPooling2D)  (None, 7, 7, 512)         0         \n",
      "                                                                 \n",
      "=================================================================\n",
      "Total params: 14,714,688\n",
      "Trainable params: 0\n",
      "Non-trainable params: 14,714,688\n",
      "_________________________________________________________________\n",
      "None\n",
      "-------------------------------\n",
      "-------------------------------\n",
      "Model Summary\n",
      "-------------------------------\n",
      "-------------------------------\n",
      "Model: \"sequential_5\"\n",
      "_________________________________________________________________\n",
      " Layer (type)                Output Shape              Param #   \n",
      "=================================================================\n",
      " vgg16 (Functional)          (None, 7, 7, 512)         14714688  \n",
      "                                                                 \n",
      " flatten_5 (Flatten)         (None, 25088)             0         \n",
      "                                                                 \n",
      " dense_15 (Dense)            (None, 512)               12845568  \n",
      "                                                                 \n",
      " dense_16 (Dense)            (None, 128)               65664     \n",
      "                                                                 \n",
      " dense_17 (Dense)            (None, 2)                 258       \n",
      "                                                                 \n",
      "=================================================================\n",
      "Total params: 27,626,178\n",
      "Trainable params: 12,911,490\n",
      "Non-trainable params: 14,714,688\n",
      "_________________________________________________________________\n",
      "None\n"
     ]
    }
   ],
   "source": [
    "vgg = VGG((224, 224,3),2)"
   ]
  },
  {
   "cell_type": "code",
   "execution_count": null,
   "metadata": {
    "id": "auO8HMk1oWKW"
   },
   "outputs": [],
   "source": [
    "#Architecture\n",
    "import pydot\n",
    "keras.utils.plot_model(vgg.model)"
   ]
  },
  {
   "cell_type": "code",
   "execution_count": 45,
   "metadata": {
    "colab": {
     "base_uri": "https://localhost:8080/"
    },
    "id": "_oV_lhuM4kX-",
    "outputId": "0a219512-7bcc-4ce0-cfa1-be0b85d15f74"
   },
   "outputs": [
    {
     "name": "stdout",
     "output_type": "stream",
     "text": [
      "Found 4708 images belonging to 2 classes.\n",
      "Found 524 images belonging to 2 classes.\n",
      "Epoch 1/10\n",
      "148/148 [==============================] - 2763s 19s/step - loss: 0.6217 - accuracy: 0.7436 - val_loss: 0.4491 - val_accuracy: 0.8168\n",
      "Epoch 2/10\n",
      "148/148 [==============================] - 2738s 19s/step - loss: 0.4261 - accuracy: 0.7957 - val_loss: 0.5228 - val_accuracy: 0.7252\n",
      "Epoch 3/10\n",
      "148/148 [==============================] - 2736s 18s/step - loss: 0.3969 - accuracy: 0.8063 - val_loss: 0.4321 - val_accuracy: 0.8034\n",
      "Epoch 4/10\n",
      "148/148 [==============================] - 2730s 18s/step - loss: 0.4226 - accuracy: 0.7931 - val_loss: 0.4852 - val_accuracy: 0.7729\n",
      "Epoch 5/10\n",
      "148/148 [==============================] - 2743s 19s/step - loss: 0.4082 - accuracy: 0.7991 - val_loss: 0.4673 - val_accuracy: 0.7595\n",
      "Epoch 6/10\n",
      "148/148 [==============================] - 2756s 19s/step - loss: 0.3759 - accuracy: 0.8226 - val_loss: 0.4484 - val_accuracy: 0.7824\n",
      "Epoch 7/10\n",
      "148/148 [==============================] - 2748s 19s/step - loss: 0.3912 - accuracy: 0.8137 - val_loss: 0.4671 - val_accuracy: 0.7729\n",
      "Epoch 8/10\n",
      "148/148 [==============================] - 2732s 18s/step - loss: 0.3807 - accuracy: 0.8203 - val_loss: 0.4128 - val_accuracy: 0.8053\n",
      "Epoch 9/10\n",
      "148/148 [==============================] - 2740s 19s/step - loss: 0.3568 - accuracy: 0.8280 - val_loss: 0.4040 - val_accuracy: 0.7939\n",
      "Epoch 10/10\n",
      "148/148 [==============================] - 2709s 18s/step - loss: 0.3522 - accuracy: 0.8343 - val_loss: 0.4559 - val_accuracy: 0.7844\n"
     ]
    }
   ],
   "source": [
    "train_data_dir = \"./train\"\n",
    "validation_data_dir = \"./validation\"\n",
    "target_size = (224,224)\n",
    "batch_size = 32\n",
    "epochs = 10\n",
    "history = vgg.train(train_data_dir,validation_data_dir,target_size,batch_size,epochs)"
   ]
  },
  {
   "cell_type": "code",
   "execution_count": 47,
   "metadata": {
    "colab": {
     "base_uri": "https://localhost:8080/",
     "height": 295
    },
    "id": "t1Ob3RD8su7_",
    "outputId": "2370c193-78ed-4e9e-a11b-26e2c554b7e7"
   },
   "outputs": [
    {
     "data": {
      "image/png": "[encoded data removed]",
      "text/plain": [
       "<Figure size 432x288 with 1 Axes>"
      ]
     },
     "metadata": {
      "needs_background": "light"
     },
     "output_type": "display_data"
    }
   ],
   "source": [
    "vgg.plot_accuracy(history)"
   ]
  },
  {
   "cell_type": "code",
   "execution_count": 48,
   "metadata": {
    "colab": {
     "base_uri": "https://localhost:8080/",
     "height": 295
    },
    "id": "cmZm6_yGtKbQ",
    "outputId": "19d61ca5-b058-403b-b9e0-cb7f9a54a11c"
   },
   "outputs": [
    {
     "data": {
      "image/png": "[encoded data removed]",
      "text/plain": [
       "<Figure size 432x288 with 1 Axes>"
      ]
     },
     "metadata": {
      "needs_background": "light"
     },
     "output_type": "display_data"
    }
   ],
   "source": [
    "vgg.plot_loss(history)\n"
   ]
  },
  {
   "cell_type": "code",
   "execution_count": 51,
   "metadata": {
    "colab": {
     "base_uri": "https://localhost:8080/"
    },
    "id": "5NrztfqwYCVQ",
    "outputId": "6da35025-1bbb-4d02-d771-89eba2f786f3"
   },
   "outputs": [
    {
     "name": "stdout",
     "output_type": "stream",
     "text": [
      "Found 624 images belonging to 2 classes.\n",
      "20/20 [==============================] - 319s 16s/step - loss: 0.5412 - accuracy: 0.7324\n",
      "Testing accuracy: 73.23718070983887 %\n"
     ]
    }
   ],
   "source": [
    "test_data_dir = \"./test\"\n",
    "test =vgg.getTestAugmentation(test_data_dir)\n",
    "test_accu = vgg.test_model(test)"
   ]
  }
 ],
 "metadata": {
  "accelerator": "GPU",
  "colab": {
   "collapsed_sections": [],
   "name": "XRAYS_VGG.ipynb",
   "provenance": []
  },
  "kernelspec": {
   "display_name": "Python 3",
   "language": "python",
   "name": "python3"
  },
  "language_info": {
   "codemirror_mode": {
    "name": "ipython",
    "version": 3
   },
   "file_extension": ".py",
   "mimetype": "text/x-python",
   "name": "python",
   "nbconvert_exporter": "python",
   "pygments_lexer": "ipython3",
   "version": "3.8.3"
  }
 },
 "nbformat": 4,
 "nbformat_minor": 1
}
